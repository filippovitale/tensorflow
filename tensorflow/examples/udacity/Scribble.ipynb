{
 "cells": [
  {
   "cell_type": "code",
   "execution_count": 1,
   "metadata": {
    "collapsed": false
   },
   "outputs": [
    {
     "name": "stdout",
     "output_type": "stream",
     "text": [
      "{'lion': 'yellow', 'kitty': 'red'}\n"
     ]
    }
   ],
   "source": [
    "import pickle\n",
    "\n",
    "favorite_color = { \"lion\": \"yellow\", \"kitty\": \"red\" }\n",
    "\n",
    "# Save a dictionary into a pickle file.\n",
    "pickle.dump( favorite_color, open( \"save.p\", \"wb\" ) )\n",
    "\n",
    "# Load the dictionary back from the pickle file.\n",
    "print(pickle.load( open( \"save.p\", \"rb\" ) ))"
   ]
  },
  {
   "cell_type": "code",
   "execution_count": null,
   "metadata": {
    "collapsed": true
   },
   "outputs": [],
   "source": []
  }
 ],
 "metadata": {
  "kernelspec": {
   "display_name": "Python 2",
   "language": "python",
   "name": "python2"
  },
  "language_info": {
   "codemirror_mode": {
    "name": "ipython",
    "version": 2
   },
   "file_extension": ".py",
   "mimetype": "text/x-python",
   "name": "python",
   "nbconvert_exporter": "python",
   "pygments_lexer": "ipython2",
   "version": "2.7.6"
  }
 },
 "nbformat": 4,
 "nbformat_minor": 0
}
